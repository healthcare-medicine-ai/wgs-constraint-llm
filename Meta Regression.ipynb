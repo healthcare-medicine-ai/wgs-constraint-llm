{
 "cells": [
  {
   "cell_type": "code",
   "execution_count": null,
   "id": "44bc2929",
   "metadata": {},
   "outputs": [],
   "source": [
    "library(metafor)\n",
    "\n",
    "# Read data from the file into a data frame\n",
    "data <- read.table(\"constraint_am_epi25_chr2_results.tsv.gz\", header = TRUE, sep = \"\\t\", quote = \"\", comment.char = \"\")\n",
    "# Assuming the file has columns 'effect_size', 'var_effect_size', 'prob_0', 'am_pathogenicity', and 'group'\n",
    "\n",
    "# Get unique values in the 'group' column\n",
    "unique_groups <- unique(data$group)\n",
    "\n",
    "# Loop over each group and build a meta-regression model\n",
    "for (current_group in unique_groups) {\n",
    "  \n",
    "  # Subset the data for the current group\n",
    "  group_data <- subset(data, group == current_group)\n",
    "  \n",
    "  # Meta-regression model for the current group\n",
    "  model <- rma(yi = log(effect_size), sei = sqrt(var_effect_size), mods = ~ prob_0 + am_pathogenicity, data = group_data, method = \"REML\")\n",
    "  \n",
    "  # Print summary for the current group\n",
    "  cat(\"Summary for group:\", current_group, \"\\n\")\n",
    "  print(summary(model))\n",
    "  cat(\"\\n\")\n",
    "}"
   ]
  },
  {
   "cell_type": "code",
   "execution_count": null,
   "id": "3988aaad",
   "metadata": {},
   "outputs": [],
   "source": []
  }
 ],
 "metadata": {
  "kernelspec": {
   "display_name": "R",
   "language": "R",
   "name": "ir"
  },
  "language_info": {
   "codemirror_mode": "r",
   "file_extension": ".r",
   "mimetype": "text/x-r-source",
   "name": "R",
   "pygments_lexer": "r",
   "version": "4.3.1"
  }
 },
 "nbformat": 4,
 "nbformat_minor": 5
}

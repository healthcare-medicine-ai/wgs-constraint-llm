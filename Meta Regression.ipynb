{
 "cells": [
  {
   "cell_type": "code",
   "execution_count": null,
   "id": "44bc2929",
   "metadata": {},
   "outputs": [],
   "source": [
    "library(metafor)\n",
    "\n",
    "# Read data from the file into a data frame\n",
    "data <- read.table(\"constraint_am_epi25_chr2_results.tsv.gz\", header = TRUE, sep = \"\\t\", quote = \"\", comment.char = \"\")\n",
    "# Assuming the file has columns 'effect_size', 'var_effect_size', 'prob_0', and 'am_pathogenicity'\n",
    "\n",
    "# Meta-regression model\n",
    "model <- rma(yi = log(effect_size), sei = sqrt(var_effect_size), mods = ~ prob_0 + am_pathogenicity, data = data, method = \"REML\")\n",
    "summary(model)"
   ]
  },
  {
   "cell_type": "code",
   "execution_count": null,
   "id": "3988aaad",
   "metadata": {},
   "outputs": [],
   "source": []
  }
 ],
 "metadata": {
  "kernelspec": {
   "display_name": "R",
   "language": "R",
   "name": "ir"
  },
  "language_info": {
   "codemirror_mode": "r",
   "file_extension": ".r",
   "mimetype": "text/x-r-source",
   "name": "R",
   "pygments_lexer": "r",
   "version": "4.3.1"
  }
 },
 "nbformat": 4,
 "nbformat_minor": 5
}

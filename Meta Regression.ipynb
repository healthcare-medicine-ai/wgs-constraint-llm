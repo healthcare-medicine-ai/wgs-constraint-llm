{
 "cells": [
  {
   "cell_type": "code",
   "execution_count": null,
   "id": "44bc2929",
   "metadata": {},
   "outputs": [],
   "source": [
    "# Read the data from the file\n",
    "data <- read.table(\"constraint_am_epi25_chr2_results.tsv.gz\", header = TRUE, sep = '\\t')\n",
    "\n",
    "# Get unique values in the 'gene_id' column\n",
    "unique_genes <- unique(data$gene_id)\n",
    "\n",
    "# Initialize lists to store p-values\n",
    "p_values_prob_0 <- numeric()\n",
    "p_values_am_pathogenicity <- numeric()\n",
    "\n",
    "# Loop over each gene and build a meta-regression model\n",
    "for (current_gene in unique_genes) {\n",
    "  # Subset the data for the current gene\n",
    "  gene_data <- subset(data, gene_id == current_gene)\n",
    "  \n",
    "  # Check if there are at least 2 unique values in the dependent variable\n",
    "#   if (length(unique(gene_data$effect_size)) < 2) {\n",
    "#     cat(paste(\"Skipping gene\", current_gene, \"due to insufficient variability in the dependent variable.\\n\"))\n",
    "#     next\n",
    "#   }\n",
    "  \n",
    "  # Meta-regression model for the current gene\n",
    "  model <- lm(log(effect_size) ~ prob_0 + am_pathogenicity, data = gene_data, weights = 1 / sqrt(var_effect_size))\n",
    "  \n",
    "  # Get p-values for prob_0 and am_pathogenicity\n",
    "  p_value_prob_0 <- summary(model)$coefficients[\"prob_0\", \"Pr(>|t|)\"]\n",
    "  p_value_am_pathogenicity <- summary(model)$coefficients[\"am_pathogenicity\", \"Pr(>|t|)\"]\n",
    "\n",
    "  # Append p-values to lists\n",
    "  p_values_prob_0 <- c(p_values_prob_0, p_value_prob_0)\n",
    "  p_values_am_pathogenicity <- c(p_values_am_pathogenicity, p_value_am_pathogenicity)\n",
    "}\n",
    "\n",
    "# Combine p-values using Fisher's method\n",
    "fisher_combined_p_prob_0 <- fisher.test(p_values_prob_0)$p.value\n",
    "fisher_combined_p_am_pathogenicity <- fisher.test(p_values_am_pathogenicity)$p.value\n",
    "\n",
    "# Print combined p-values\n",
    "cat(\"Combined p-value for prob_0:\", fisher_combined_p_prob_0, \"\\n\")\n",
    "cat(\"Combined p-value for am_pathogenicity:\", fisher_combined_p_am_pathogenicity, \"\\n\")\n"
   ]
  },
  {
   "cell_type": "code",
   "execution_count": null,
   "id": "3988aaad",
   "metadata": {},
   "outputs": [],
   "source": []
  }
 ],
 "metadata": {
  "kernelspec": {
   "display_name": "R",
   "language": "R",
   "name": "ir"
  },
  "language_info": {
   "codemirror_mode": "r",
   "file_extension": ".r",
   "mimetype": "text/x-r-source",
   "name": "R",
   "pygments_lexer": "r",
   "version": "4.3.1"
  }
 },
 "nbformat": 4,
 "nbformat_minor": 5
}

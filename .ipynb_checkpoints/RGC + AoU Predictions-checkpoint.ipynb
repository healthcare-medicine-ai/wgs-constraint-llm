{
 "cells": [
  {
   "cell_type": "markdown",
   "id": "4dfd8e57",
   "metadata": {
    "id": "vECLNfPmhyDb"
   },
   "source": [
    "## Setup"
   ]
  },
  {
   "cell_type": "code",
   "execution_count": null,
   "id": "aba4de71",
   "metadata": {
    "id": "bsBOtyuTAJsC",
    "scrolled": true
   },
   "outputs": [],
   "source": [
    "!pip install numpy\n",
    "!pip install pandas\n",
    "!pip install statsmodels"
   ]
  },
  {
   "cell_type": "code",
   "execution_count": null,
   "id": "b3e40b0f",
   "metadata": {
    "executionInfo": {
     "elapsed": 8,
     "status": "ok",
     "timestamp": 1703779362738,
     "user": {
      "displayName": "Oscar Thomas Aguilar",
      "userId": "15151607230073393698"
     },
     "user_tz": 300
    },
    "id": "BZfHQLuPhyDl"
   },
   "outputs": [],
   "source": [
    "import numpy as np\n",
    "import pandas as pd\n",
    "import matplotlib.pyplot as plt\n",
    "from matplotlib.colors import LogNorm\n",
    "import seaborn as sns\n",
    "import statsmodels.api as sm\n",
    "import gzip\n",
    "import warnings\n",
    "\n",
    "# Suppress all warnings\n",
    "warnings.filterwarnings(\"ignore\")"
   ]
  },
  {
   "cell_type": "code",
   "execution_count": null,
   "id": "9d9668a3",
   "metadata": {
    "executionInfo": {
     "elapsed": 173,
     "status": "ok",
     "timestamp": 1703790405518,
     "user": {
      "displayName": "Oscar Thomas Aguilar",
      "userId": "15151607230073393698"
     },
     "user_tz": 300
    },
    "id": "9IWHWPQ_hyDm"
   },
   "outputs": [],
   "source": [
    "# Specify project directories in Sherlock\n",
    "data_path = '/oak/stanford/groups/mrivas/projects/wgs-constraint-llm/data/'\n",
    "results_path = '/oak/stanford/groups/mrivas/projects/wgs-constraint-llm/osthoag/wgs-constraint-llm/results/'\n",
    "\n",
    "# Specify the file paths\n",
    "coverage_file_path = data_path + 'gnomad.exomes.v4.0.coverage.summary.tsv.bgz'"
   ]
  },
  {
   "cell_type": "markdown",
   "id": "0b574c7b",
   "metadata": {
    "id": "vECLNfPmhyDb"
   },
   "source": [
    "## Load data"
   ]
  },
  {
   "cell_type": "code",
   "execution_count": null,
   "id": "0d34ff27",
   "metadata": {},
   "outputs": [],
   "source": [
    "# Define model name (and absolute path)\n",
    "model_name = results_path + 'HMM_rgc_0.9_over20_chr2'\n",
    "\n",
    "aou_predictions_df = pd.read_csv(model_name + '_predictions_aou_wes.tsv.gz', compression='gzip', sep='\\t')\n",
    "rgc_predictions_df = pd.read_csv(model_name + '_predictions_rgc_wes.tsv.gz', compression='gzip', sep='\\t')\n",
    "\n",
    "# Merge the DataFrames on the columns 'chr' and 'pos'\n",
    "merged_df = pd.merge(aou_predictions_df, rgc_predictions_df, on=['chr', 'pos'], suffixes=('_aou', '_rgc'))\n",
    "\n",
    "merged_df"
   ]
  },
  {
   "cell_type": "code",
   "execution_count": null,
   "id": "9fb61141",
   "metadata": {},
   "outputs": [],
   "source": [
    "merged_df = merged_df.drop(columns=['prob_1_aou', 'prob_1_rgc'])\n",
    "\n",
    "# Save results for future analysis\n",
    "merged_df.to_csv(model_name + '_joint_predictions_aou_rgc_wes.tsv.gz', index=False, compression='gzip', sep='\\t')"
   ]
  },
  {
   "cell_type": "markdown",
   "id": "2c569832",
   "metadata": {
    "id": "vECLNfPmhyDb"
   },
   "source": [
    "## Compare predictions for AoU data and RGC data for WES (excluding chr2)"
   ]
  },
  {
   "cell_type": "code",
   "execution_count": null,
   "id": "4f84fe00",
   "metadata": {},
   "outputs": [],
   "source": [
    "# Define model name (and absolute path)\n",
    "model_name = results_path + 'HMM_rgc_0.9_over20_chr2'\n",
    "\n",
    "merged_df = pd.read_csv(model_name + '_joint_predictions_aou_rgc_wes.tsv.gz', compression='gzip', sep='\\t')\n",
    "\n",
    "# Filter out chromosome 2\n",
    "merged_df = merged_df[merged_df['chr'] != 'chr2']"
   ]
  },
  {
   "cell_type": "markdown",
   "id": "d157fe2f",
   "metadata": {
    "id": "vECLNfPmhyDb"
   },
   "source": [
    "### Perform $\\chi^2$ analysis for joint distribution"
   ]
  },
  {
   "cell_type": "code",
   "execution_count": null,
   "id": "87649cae",
   "metadata": {},
   "outputs": [],
   "source": [
    "# Define the bins\n",
    "bins = np.arange(0, 1.1, .1)\n",
    "\n",
    "# Bucket the DataFrame to obtain marginal distributions\n",
    "merged_df['prob_0_aou_bin'] = pd.cut(merged_df['prob_0_aou'], bins=bins, precision=2)\n",
    "merged_df['prob_0_rgc_bin'] = pd.cut(merged_df['prob_0_rgc'], bins=bins, precision=2)\n",
    "\n",
    "# Calculate marginal distributions\n",
    "marginal_aou = merged_df['prob_0_aou_bin'].value_counts(normalize=True).sort_index()\n",
    "marginal_rgc = merged_df['prob_0_rgc_bin'].value_counts(normalize=True).sort_index()\n",
    "\n",
    "# Calculate expected joint distribution assuming independence\n",
    "# expected_joint = np.outer(marginal_aou, marginal_rgc)\n",
    "expected_joint = np.outer(marginal_aou, marginal_rgc) * len(merged_df)\n",
    "\n",
    "# Calculate actual joint distribution\n",
    "# actual_joint = merged_df[['prob_0_aou_bin', 'prob_0_rgc_bin']].value_counts(normalize=True).sort_index()\n",
    "actual_joint = merged_df[['prob_0_aou_bin', 'prob_0_rgc_bin']].value_counts(normalize=False).sort_index()\n",
    "actual_joint = actual_joint.to_numpy().reshape((9, 9))\n",
    "actual_joint = np.insert(actual_joint, 2, 0, axis=0)\n",
    "actual_joint = np.insert(actual_joint, 2, 0, axis=1)\n",
    "\n",
    "# Calculate percent difference\n",
    "percent_diff = (actual_joint - expected_joint) / expected_joint\n",
    "percent_diff = np.nan_to_num(percent_diff)\n",
    "\n",
    "# Calculate chi-squared statistic\n",
    "chi_sqr = (expected_joint - actual_joint) ** 2 / expected_joint\n",
    "chi_sqr = np.nan_to_num(chi_sqr)\n",
    "\n",
    "# Create subplots\n",
    "fig, axs = plt.subplots(2, 2, figsize=(12, 12))\n",
    "\n",
    "# Plot expected joint distribution with log scale\n",
    "sns.heatmap(expected_joint, cmap='Blues', annot=False, fmt=\".3f\", cbar=True, xticklabels=marginal_rgc.index, yticklabels=marginal_aou.index, ax=axs[0, 0], norm=LogNorm())\n",
    "axs[0, 0].set_xlabel('RGC Constraint Probability')\n",
    "axs[0, 0].set_ylabel('AoU Constraint Probability')\n",
    "axs[0, 0].set_title('Expected Joint Distribution')\n",
    "axs[0, 0].invert_yaxis()\n",
    "\n",
    "# Plot actual joint distribution with log scale\n",
    "sns.heatmap(actual_joint, cmap='Blues', annot=False, fmt=\".3f\", cbar=True, xticklabels=marginal_rgc.index, yticklabels=marginal_aou.index, ax=axs[0, 1], norm=LogNorm())\n",
    "axs[0, 1].set_xlabel('RGC Constraint Probability')\n",
    "axs[0, 1].set_ylabel('AoU Constraint Probability')\n",
    "axs[0, 1].set_title('Actual Joint Distribution')\n",
    "axs[0, 1].invert_yaxis()\n",
    "\n",
    "# Plot percent difference\n",
    "sns.heatmap(percent_diff, cmap='Blues', annot=False, fmt=\".3f\", cbar=True, xticklabels=marginal_rgc.index, yticklabels=marginal_aou.index, ax=axs[1, 0])\n",
    "axs[1, 0].set_xlabel('RGC Constraint Probability')\n",
    "axs[1, 0].set_ylabel('AoU Constraint Probability')\n",
    "axs[1, 0].set_title('Percent Difference of Observed vs Expected Joint Distribution')\n",
    "axs[1, 0].invert_yaxis()\n",
    "\n",
    "# Plot chi-squared statistic\n",
    "sns.heatmap(chi_sqr, cmap='Blues', annot=False, fmt=\".3f\", cbar=True, xticklabels=marginal_rgc.index, yticklabels=marginal_aou.index, ax=axs[1, 1])\n",
    "axs[1, 1].set_xlabel('RGC Constraint Probability')\n",
    "axs[1, 1].set_ylabel('AoU Constraint Probability')\n",
    "axs[1, 1].set_title('Chi-Squared Statistic for Observed vs Expected Joint Distribution')\n",
    "axs[1, 1].invert_yaxis()\n",
    "\n",
    "# Adjust layout\n",
    "plt.tight_layout()\n",
    "\n",
    "# Show the plot\n",
    "plt.show()"
   ]
  },
  {
   "cell_type": "code",
   "execution_count": null,
   "id": "68c256de",
   "metadata": {},
   "outputs": [],
   "source": [
    "from scipy import stats\n",
    "chi_sqr_statistic = np.sum(chi_sqr)\n",
    "n = np.sum(actual_joint)\n",
    "dof = n - 2\n",
    "p_val = 1 - stats.chi2.cdf(chi_sqr_statistic, dof)\n",
    "print(chi_sqr_statistic, n, p_val)"
   ]
  },
  {
   "cell_type": "code",
   "execution_count": null,
   "id": "27cd5b3f",
   "metadata": {},
   "outputs": [],
   "source": [
    "xticklabels = [f'{i:.1f}' for i in np.arange(0, 1.1, 0.1)]\n",
    "yticklabels = [f'{i:.1f}' for i in np.arange(0, 1.1, 0.1)]\n",
    "\n",
    "fig, ax1 = plt.subplots(1, figsize=(7, 6))\n",
    "\n",
    "# Plot actual joint distribution with log scale\n",
    "ax1 = sns.heatmap(actual_joint, cmap='Blues', annot=False, fmt=\".3f\", cbar=True, norm=LogNorm(), ax=ax1)\n",
    "ax1.set_title('Observed Joint Distribution', fontsize=14)\n",
    "ax1.set_xlabel('RGC Constraint Probability', fontsize=12)\n",
    "ax1.set_ylabel('AoU Constraint Probability', fontsize=12)\n",
    "ax1.invert_yaxis()\n",
    "ax1.set_xticks(range(11))\n",
    "ax1.set_xticklabels(xticklabels)\n",
    "ax1.set_yticks(range(11))\n",
    "ax1.set_yticklabels(yticklabels)\n",
    "\n",
    "# Adjust layout\n",
    "plt.tight_layout()\n",
    "\n",
    "# Show the plot\n",
    "plt.savefig(results_path + \"Figure 5a: observed joint distribution of RGC vs AoU WES constraint predictions\")\n",
    "plt.show()\n",
    "\n",
    "fig, ax2 = plt.subplots(1, figsize=(7, 6))\n",
    "\n",
    "# Plot chi-squared statistic\n",
    "ax2 = sns.heatmap(chi_sqr, cmap='Blues', annot=False, fmt=\".3f\", cbar=True, ax=ax2)\n",
    "ax2.set_title('$\\chi^2$ for Observed vs Expected Joint Distribution', y=1, x=0.55, fontsize=14)\n",
    "ax2.set_xlabel('RGC Constraint Probability', fontsize=12)\n",
    "ax2.set_ylabel('AoU Constraint Probability', fontsize=12)\n",
    "ax2.invert_yaxis()\n",
    "ax2.set_xticks(range(11))\n",
    "ax2.set_xticklabels(xticklabels)\n",
    "ax2.set_yticks(range(11))\n",
    "ax2.set_yticklabels(yticklabels)\n",
    "\n",
    "# Adjust layout\n",
    "plt.tight_layout()\n",
    "\n",
    "# Show the plot\n",
    "plt.savefig(results_path + \"Figure 2: chi-square statistics of RGC vs AoU WES constraint predictions\")\n",
    "plt.show()"
   ]
  },
  {
   "cell_type": "markdown",
   "id": "30c07a21",
   "metadata": {
    "id": "vECLNfPmhyDb"
   },
   "source": [
    "### Perform correspondence analysis for joint distribution"
   ]
  },
  {
   "cell_type": "code",
   "execution_count": null,
   "id": "decb589f",
   "metadata": {},
   "outputs": [],
   "source": [
    "import numpy as np\n",
    "from scipy.sparse.linalg import svds\n",
    "from sklearn.preprocessing import StandardScaler\n",
    "\n",
    "# Calculate row and column totals\n",
    "row_totals = np.sum(actual_joint, axis=1)\n",
    "col_totals = np.sum(actual_joint, axis=0)\n",
    "\n",
    "# Add a small constant to avoid division by zero\n",
    "row_totals = row_totals + 1e-10\n",
    "col_totals = col_totals + 1e-10\n",
    "\n",
    "# Calculate row and column profiles\n",
    "row_profiles = actual_joint / row_totals[:, None]\n",
    "col_profiles = actual_joint / col_totals[None, :]\n",
    "\n",
    "# Replace inf or NaN values with a finite number\n",
    "row_profiles = np.nan_to_num(row_profiles, nan=0.0, posinf=0.0, neginf=0.0)\n",
    "col_profiles = np.nan_to_num(col_profiles, nan=0.0, posinf=0.0, neginf=0.0)\n",
    "\n",
    "# Calculate chi-square distance matrix\n",
    "D_r = np.diag(1.0 / np.sqrt(row_totals))\n",
    "D_c = np.diag(1.0 / np.sqrt(col_totals))\n",
    "S = D_r @ (row_profiles - col_profiles) @ D_c\n",
    "\n",
    "# Perform singular value decomposition\n",
    "U, s, Vt = svds(S, k=min(S.shape) - 1)\n",
    "\n",
    "# Calculate row and column coordinates\n",
    "F_r = D_r @ U @ np.diag(np.sqrt(s))\n",
    "F_c = D_c @ Vt.T @ np.diag(np.sqrt(s))\n",
    "\n",
    "# Standardize the coordinates\n",
    "scaler = StandardScaler()\n",
    "F_r = scaler.fit_transform(F_r)\n",
    "F_c = scaler.transform(F_c)"
   ]
  },
  {
   "cell_type": "code",
   "execution_count": null,
   "id": "a058e39a",
   "metadata": {},
   "outputs": [],
   "source": [
    "import matplotlib.pyplot as plt\n",
    "\n",
    "# Create a new figure\n",
    "plt.figure(figsize=(10, 10))\n",
    "\n",
    "# Plot row points and labels\n",
    "plt.scatter(F_r[:, 0], F_r[:, 1], color='blue', label='AoU')\n",
    "for i, label in enumerate(marginal_aou.index):\n",
    "    if i==5:\n",
    "        plt.text(F_r[i, 0]-0.25, F_r[i, 1]-0.1, label, color='blue')\n",
    "    elif i==2:\n",
    "        plt.text(F_r[i, 0], F_r[i, 1]+0.025, label, color='blue')\n",
    "    elif i==9:\n",
    "        plt.text(F_r[i, 0], F_r[i, 1]-0.05, label, color='blue')\n",
    "    else:\n",
    "        plt.text(F_r[i, 0], F_r[i, 1], label, color='blue')\n",
    "\n",
    "# Plot column points and labels\n",
    "plt.scatter(F_c[:, 0], F_c[:, 1], color='red', label='RGC')\n",
    "for i, label in enumerate(marginal_rgc.index):\n",
    "    plt.text(F_c[i, 0]-0.75, F_c[i, 1]-0.075, label, color='red')\n",
    "\n",
    "# Add a legend\n",
    "plt.legend()\n",
    "\n",
    "# Add title\n",
    "plt.title(\"BiPlot of AoU and RGC joint distribution bins\")\n",
    "\n",
    "# Show the plot\n",
    "plt.show()"
   ]
  },
  {
   "cell_type": "markdown",
   "id": "6c4487af",
   "metadata": {
    "id": "vECLNfPmhyDb"
   },
   "source": [
    "### Evaluate correlation via GLM"
   ]
  },
  {
   "cell_type": "code",
   "execution_count": null,
   "id": "985b6e2f",
   "metadata": {},
   "outputs": [],
   "source": [
    "# Assuming merged_df is your DataFrame with columns 'prob_0_aou' and 'prob_0_rgc'\n",
    "ax = sns.jointplot(\n",
    "    data=merged_df[merged_df['chr'] != 'chr2'],\n",
    "    x='prob_0_aou',\n",
    "    y='prob_0_rgc',\n",
    "    kind='hex',\n",
    "    cmap='Blues',  # Change the colormap to Blues\n",
    "    norm=LogNorm(),  # Use logarithmic scale\n",
    "    marginal_kws=dict(bins=10),\n",
    "#     histplot_kws=dict(func='log'),  # Set log scale for marginal histogram\n",
    "#     kdeplot_kws=dict(func='log'),  # Set log scale for marginal KDE\n",
    "    gridsize=9,  # Set grid size to 9\n",
    ")\n",
    "\n",
    "# Add labels and title\n",
    "ax.set_axis_labels('AoU Constraint Probability', 'RGC Constraint Probability', fontsize=11)\n",
    "ax.fig.suptitle(r'Joint Distribution of RGC and AoU Constraint Probabilities for WES', y=1.05, x=0.5, fontsize=12)  # Adjust title position and make it bold\n",
    "\n",
    "# Add colorbar\n",
    "cbar_ax = ax.fig.add_axes([1, 0.1, 0.03, 0.6])  # Adjust the position as needed\n",
    "cb = plt.colorbar(cax=cbar_ax)\n",
    "\n",
    "# Set colorbar label\n",
    "cb.set_label('Log-Scaled Count')\n",
    "\n",
    "# Show the plot\n",
    "plt.savefig(results_path + \"Figure 2: RGC vs AoU WES constraint predictions\")\n",
    "plt.show()"
   ]
  },
  {
   "cell_type": "code",
   "execution_count": null,
   "id": "4415d044",
   "metadata": {},
   "outputs": [],
   "source": [
    "X = merged_df['prob_0_aou']\n",
    "X = sm.add_constant(X)\n",
    "y = merged_df['prob_0_rgc']\n",
    "\n",
    "# Fit the logistic regression model\n",
    "model = sm.OLS(y, X).fit()\n",
    "\n",
    "print(model.summary())"
   ]
  }
 ],
 "metadata": {
  "kernelspec": {
   "display_name": "Python 3 (ipykernel)",
   "language": "python",
   "name": "python3"
  },
  "language_info": {
   "codemirror_mode": {
    "name": "ipython",
    "version": 3
   },
   "file_extension": ".py",
   "mimetype": "text/x-python",
   "name": "python",
   "nbconvert_exporter": "python",
   "pygments_lexer": "ipython3",
   "version": "3.11.4"
  }
 },
 "nbformat": 4,
 "nbformat_minor": 5
}
